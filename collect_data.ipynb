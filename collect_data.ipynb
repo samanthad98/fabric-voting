{
 "cells": [
  {
   "cell_type": "code",
   "execution_count": 20,
   "metadata": {},
   "outputs": [],
   "source": [
    "import os\n",
    "import sys\n",
    "import time\n",
    "import os.path\n",
    "import csv\n",
    "import re"
   ]
  },
  {
   "cell_type": "code",
   "execution_count": 21,
   "metadata": {},
   "outputs": [],
   "source": [
    "def smallest_time(lines):\n",
    "    for line in lines:\n",
    "        if \"STARTED VOTE\" in line:\n",
    "            time = re.search(r'[0-9]*ms', line).group(0)\n",
    "            return int(time[:-2])\n",
    "        elif \"STARTED QUERY\" in line:\n",
    "            time = re.search(r'[0-9]*ms', line).group(0)\n",
    "            return int(time[:-2])"
   ]
  },
  {
   "cell_type": "code",
   "execution_count": 39,
   "metadata": {},
   "outputs": [],
   "source": [
    "def collect_master():\n",
    "    for i in range(1, NUM_LOG + 1):\n",
    "        with open(LOG_ORIGIN + str(i) , \"r\") as f:\n",
    "            lines = f.readlines()\n",
    "            f.close()\n",
    "    \n",
    "        num_uncomplete_transactions = 0\n",
    "        time_cutoff = smallest_time(lines) + 75 * 1000\n",
    "        time = 0\n",
    "        with open(TEST + '/output-small'+ '.csv', 'a') as f1:\n",
    "            with open(TEST + '/backoffcase' + '.csv', 'a') as f2:\n",
    "                with open(TEST + '/starttime' + '.csv', 'a') as f3:\n",
    "                    with open(TEST + '/endtime' + '.csv', 'a') as f4:\n",
    "                        with open(TEST + '/output-big' + '.csv', 'a') as f5:\n",
    "                            with open(TEST + '/duration_short' + '.csv', 'a') as f6:\n",
    "                                with open(TEST + '/duratoin_long' + '.csv', 'a') as f7:\n",
    "                                    writer1 = csv.writer(f1, delimiter=' ', quotechar='|', quoting=csv.QUOTE_MINIMAL)\n",
    "                                    writer2 = csv.writer(f2, delimiter=' ', quotechar='|', quoting=csv.QUOTE_MINIMAL)\n",
    "                                    writer3 = csv.writer(f3, delimiter=' ', quotechar='|', quoting=csv.QUOTE_MINIMAL)\n",
    "                                    writer4 = csv.writer(f4, delimiter=' ', quotechar='|', quoting=csv.QUOTE_MINIMAL)\n",
    "                                    writer5 = csv.writer(f5, delimiter=' ', quotechar='|', quoting=csv.QUOTE_MINIMAL)\n",
    "                                    writer6 = csv.writer(f6, delimiter=' ', quotechar='|', quoting=csv.QUOTE_MINIMAL)\n",
    "                                    writer7 = csv.writer(f7, delimiter=' ', quotechar='|', quoting=csv.QUOTE_MINIMAL)\n",
    "                                    for line in lines:\n",
    "                                        if i < BIG_SEP:\n",
    "                                            if \"STARTED VOTE\" in line:\n",
    "                                                time = re.search(r'[0-9]*ms', line).group(0)\n",
    "                                                time = time[:-2]\n",
    "                                                num_uncomplete_transactions += 1\n",
    "                                                writer3.writerow([time])\n",
    "                                            elif \"FINISHED VOTE\" in line:\n",
    "                                                time = re.search(r'IN [0-9]*ms', line).group(0)\n",
    "                                                time = time[3:-2]\n",
    "                                                writer6.writerow([time])\n",
    "                                                time = re.search(r'AT [0-9]*ms', line).group(0)\n",
    "                                                time = time[3:-2]\n",
    "                                                num_uncomplete_transactions -= 1\n",
    "                                                writer4.writerow([time])\n",
    "                                        else:\n",
    "                                            if \"STARTED QUERY\" in line:\n",
    "                                                time = re.search(r'[0-9]*ms', line).group(0)\n",
    "                                                time = time[:-2]\n",
    "                                                num_uncomplete_transactions += 1\n",
    "                                                writer3.writerow([time])\n",
    "                                            elif \"FINISHED QUERY\" in line:\n",
    "                                                time = re.search(r'IN [0-9]*ms', line).group(0)\n",
    "                                                time = time[3:-2]\n",
    "                                                writer7.writerow([time])\n",
    "                                                time = re.search(r'AT [0-9]*ms', line).group(0)\n",
    "                                                time = time[3:-2]\n",
    "                                                num_uncomplete_transactions -= 1\n",
    "                                                writer4.writerow([time])\n",
    "                                                \n",
    "                                        if 0 <= int(time) <= time_cutoff:\n",
    "                                            attempts = re.search(r'\\s[0-9]*\\sTXN\\sATTEMPTS', line)\n",
    "                                            if attempts and not '[NOT IN STATS]' in line:\n",
    "                                                cut = re.search(r'\\s[0-9]*\\sTXN\\sATTEMPTS', line).group(0)\n",
    "                                                num_attempts = cut.split()[0]\n",
    "                                                cut = re.search(r'BACKOFFTIME:\\s[0-9]*\\s', line).group(0)\n",
    "                                                backofftime = cut.split()[1]\n",
    "                                                cut = re.search(r'BACKOFFCOUNT:\\s[0-9]*\\s', line).group(0)\n",
    "                                                backoffcount = cut.split()[1]\n",
    "                                                if i < BIG_SEP:\n",
    "                                                    writer1.writerow([num_attempts, backofftime, backoffcount])\n",
    "                                                else:\n",
    "                                                    writer5.writerow([num_attempts, backofftime, backoffcount])\n",
    "                                            if \"becasue\" in line:\n",
    "                                                line = line.strip()\n",
    "                                                casecode = line.split()[-1]\n",
    "                                                writer2.writerow([casecode])\n",
    "                                        else:\n",
    "                                            break\n",
    "                                    print num_uncomplete_transactions\n",
    "                                    f7.close()\n",
    "                                    f6.close()\n",
    "                                    f5.close()\n",
    "                                    f4.close()\n",
    "                                    f3.close()\n",
    "                                    f2.close()\n",
    "                                    f1.close()"
   ]
  },
  {
   "cell_type": "code",
   "execution_count": 32,
   "metadata": {},
   "outputs": [
    {
     "name": "stdout",
     "output_type": "stream",
     "text": [
      "1\n",
      "1\n",
      "1\n",
      "2\n",
      "1\n",
      "2\n",
      "1\n",
      "14\n",
      "1\n",
      "1\n"
     ]
    }
   ],
   "source": [
    "TEST = 'var-master-original-new'\n",
    "LOG_ORIGIN = 'var-master-original-new/log/fabric.log.'\n",
    "BIG_SEP = 9\n",
    "NUM_LOG = 10\n",
    "collect_master()"
   ]
  },
  {
   "cell_type": "code",
   "execution_count": 33,
   "metadata": {},
   "outputs": [
    {
     "name": "stdout",
     "output_type": "stream",
     "text": [
      "1\n",
      "1\n",
      "1\n",
      "1\n",
      "1\n",
      "1\n",
      "1\n",
      "1\n"
     ]
    }
   ],
   "source": [
    "TEST = 'var-master-only-vote-new'\n",
    "LOG_ORIGIN = 'var-master-only-vote-new/log/fabric.log.'\n",
    "BIG_SEP = 9\n",
    "NUM_LOG = 8\n",
    "collect_master()"
   ]
  },
  {
   "cell_type": "code",
   "execution_count": 34,
   "metadata": {},
   "outputs": [
    {
     "name": "stdout",
     "output_type": "stream",
     "text": [
      "1\n",
      "1\n",
      "1\n",
      "1\n",
      "1\n",
      "1\n",
      "1\n",
      "1\n"
     ]
    }
   ],
   "source": [
    "TEST = 'var-master-slow-tally-new'\n",
    "LOG_ORIGIN = 'var-master-slow-tally-new/log/fabric.log.'\n",
    "BIG_SEP = 7\n",
    "NUM_LOG = 8\n",
    "collect_master()"
   ]
  },
  {
   "cell_type": "code",
   "execution_count": 35,
   "metadata": {},
   "outputs": [
    {
     "name": "stdout",
     "output_type": "stream",
     "text": [
      "1\n",
      "0\n",
      "18\n",
      "1\n",
      "1\n",
      "8\n",
      "0\n",
      "1\n",
      "0\n",
      "1\n"
     ]
    }
   ],
   "source": [
    "TEST = 'var-development-original-new'\n",
    "LOG_ORIGIN = 'var-development-original-new/log/fabric.log.'\n",
    "BIG_SEP = 9\n",
    "NUM_LOG = 10\n",
    "collect_master()"
   ]
  },
  {
   "cell_type": "code",
   "execution_count": 36,
   "metadata": {},
   "outputs": [
    {
     "name": "stdout",
     "output_type": "stream",
     "text": [
      "1\n",
      "2\n",
      "0\n",
      "1\n",
      "1\n",
      "2\n",
      "0\n",
      "13\n"
     ]
    }
   ],
   "source": [
    "TEST = 'var-development-only-vote-new'\n",
    "LOG_ORIGIN = 'var-development-only-vote-new/log/fabric.log.'\n",
    "BIG_SEP = 9\n",
    "NUM_LOG = 8\n",
    "collect_master()"
   ]
  },
  {
   "cell_type": "code",
   "execution_count": 37,
   "metadata": {},
   "outputs": [
    {
     "name": "stdout",
     "output_type": "stream",
     "text": [
      "1\n",
      "1\n",
      "1\n",
      "1\n",
      "1\n",
      "1\n",
      "1\n",
      "1\n"
     ]
    }
   ],
   "source": [
    "TEST = 'var-development-slow-tally-new'\n",
    "LOG_ORIGIN = 'var-development-slow-tally-new/log/fabric.log.'\n",
    "BIG_SEP = 7\n",
    "NUM_LOG = 8\n",
    "collect_master()"
   ]
  },
  {
   "cell_type": "code",
   "execution_count": 40,
   "metadata": {},
   "outputs": [
    {
     "name": "stdout",
     "output_type": "stream",
     "text": [
      "0\n",
      "0\n",
      "1\n",
      "7\n",
      "5\n",
      "8\n",
      "13\n",
      "13\n",
      "1\n",
      "1\n"
     ]
    }
   ],
   "source": [
    "TEST = 'var-master'\n",
    "LOG_ORIGIN = 'var-master/log/fabric.log.'\n",
    "BIG_SEP = 9\n",
    "NUM_LOG = 10\n",
    "collect_master()"
   ]
  },
  {
   "cell_type": "code",
   "execution_count": 41,
   "metadata": {},
   "outputs": [
    {
     "name": "stdout",
     "output_type": "stream",
     "text": [
      "1\n",
      "1\n",
      "2\n",
      "3\n",
      "4\n",
      "11\n",
      "1\n",
      "15\n",
      "1\n",
      "1\n"
     ]
    }
   ],
   "source": [
    "TEST = 'var-development'\n",
    "LOG_ORIGIN = 'var-development/log/fabric.log.'\n",
    "BIG_SEP = 9\n",
    "NUM_LOG = 10\n",
    "collect_master()"
   ]
  },
  {
   "cell_type": "code",
   "execution_count": null,
   "metadata": {},
   "outputs": [],
   "source": []
  }
 ],
 "metadata": {
  "kernelspec": {
   "display_name": "Python 2",
   "language": "python",
   "name": "python2"
  },
  "language_info": {
   "codemirror_mode": {
    "name": "ipython",
    "version": 2
   },
   "file_extension": ".py",
   "mimetype": "text/x-python",
   "name": "python",
   "nbconvert_exporter": "python",
   "pygments_lexer": "ipython2",
   "version": "2.7.15"
  }
 },
 "nbformat": 4,
 "nbformat_minor": 2
}
